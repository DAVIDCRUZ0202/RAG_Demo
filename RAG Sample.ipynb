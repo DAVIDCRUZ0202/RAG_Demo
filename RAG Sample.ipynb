{
 "cells": [
  {
   "cell_type": "code",
   "execution_count": 9,
   "metadata": {},
   "outputs": [],
   "source": [
    "from langchain.text_splitter import RecursiveCharacterTextSplitter, CharacterTextSplitter\n",
    "import chromadb\n",
    "from PyPDF2 import PdfReader\n",
    "import re, uuid, time, random\n",
    "from sentence_transformers import SentenceTransformer, util\n",
    "from sklearn.metrics.pairwise import cosine_similarity\n",
    "import numpy as np\n",
    "from IPython.display import Image"
   ]
  },
  {
   "cell_type": "code",
   "execution_count": 10,
   "metadata": {},
   "outputs": [],
   "source": [
    "# rename data to be descriptive and strict\n",
    "INPUT_FILE = \"reference_document.pdf\"\n",
    "reader = PdfReader(INPUT_FILE)\n",
    "data = \"\"\n",
    "\n",
    "for i in range(len(reader.pages)):\n",
    "    data += reader.pages[i].extract_text()"
   ]
  },
  {
   "cell_type": "code",
   "execution_count": 50,
   "metadata": {},
   "outputs": [],
   "source": [
    "CHUNK_SIZE = 400\n",
    "CHUNK_OVERLAP = 30\n",
    "\n",
    "text_splitter = RecursiveCharacterTextSplitter(chunk_size=CHUNK_SIZE, chunk_overlap=CHUNK_OVERLAP)\n",
    "texts = text_splitter.split_text(data)"
   ]
  },
  {
   "cell_type": "code",
   "execution_count": 51,
   "metadata": {},
   "outputs": [],
   "source": [
    "client = chromadb.Client()\n",
    "vstore = client.get_or_create_collection(name=\"football\", metadata={\"hnsw:space\": \"cosine\"})\n",
    "start = time.time()\n",
    "vstore.add(documents= texts, metadatas=[None]*len(texts), ids=[str(uuid.uuid1()) for _ in texts])\n",
    "end = time.time()"
   ]
  },
  {
   "cell_type": "code",
   "execution_count": 49,
   "metadata": {},
   "outputs": [],
   "source": [
    "client.delete_collection(\"football\")"
   ]
  },
  {
   "cell_type": "code",
   "execution_count": 48,
   "metadata": {},
   "outputs": [],
   "source": [
    "minilm_results = {}\n",
    "\n",
    "search_k = 5\n",
    "docs = vstore.query(query_texts=[\"Who won the 2024 super bowl?\"], n_results=search_k, include=['documents'])\n",
    "strings = ''\n",
    "for i, doc in enumerate(docs['documents'][0]):\n",
    "    strings += f\"-Document {str(i)}:\"\n",
    "    strings += doc\n",
    "    strings += \"\\n\\n\"\n",
    "minilm_results[\"Who won the 2024 super bowl?\"] = strings"
   ]
  },
  {
   "cell_type": "code",
   "execution_count": 42,
   "metadata": {},
   "outputs": [
    {
     "name": "stdout",
     "output_type": "stream",
     "text": [
      "Who won the 2024 super bowl?\n",
      "\n",
      "\n",
      "-Document 0:marked the third straight year that the Super Bowl had been played in the  Western United States , \n",
      "following host cities  Inglewood, California , in 2022 and  Glendale, Arizona , in 2023.\n",
      "\n",
      "-Document 1:City Chiefs  defeated the  National Football Conference  (NFC) champion  San Francisco 49ers  25–22 \n",
      "in overtime. The Chiefs became the first team to win back -to-back Super Bowls since the  New\n",
      "\n",
      "-Document 2:Super Bowl LVIII  was an  American football  game played to determine the champion of the  National\n",
      "\n",
      "-Document 3:this game established them as a  dynasty .[9] It was the second Super Bowl to be decided in  overtime ,\n",
      "\n",
      "-Document 4:the first being  Super Bowl LI , seven years earlier.[10][11] Chiefs quarterback  Patrick Mahomes  was \n",
      "named  Super Bowl Most Valuable Player  (MVP),  completing  34 of 46 passes for 333 yards,\n",
      "\n",
      "\n",
      "\n",
      "\n"
     ]
    }
   ],
   "source": [
    "for pair in minilm_results.items():\n",
    "    print(pair[0])\n",
    "    print('\\n')\n",
    "    print(pair[1])\n",
    "    print('\\n')"
   ]
  },
  {
   "cell_type": "markdown",
   "metadata": {},
   "source": [
    "# Use RAG with a LLM"
   ]
  },
  {
   "cell_type": "code",
   "execution_count": 1,
   "metadata": {},
   "outputs": [],
   "source": [
    "import os\n",
    "from dotenv import load_dotenv\n",
    "from ibm_watson_machine_learning.foundation_models import Model\n",
    "from ibm_watson_machine_learning.metanames import GenTextParamsMetaNames as GenParams"
   ]
  },
  {
   "cell_type": "code",
   "execution_count": 2,
   "metadata": {},
   "outputs": [],
   "source": [
    "#config Watsonx.ai environment\n",
    "load_dotenv()\n",
    "api_key = os.getenv(\"WXAI_APIKEY\", None)\n",
    "ibm_cloud_url = os.getenv(\"WXAI_URL\", None)\n",
    "project_id = os.getenv(\"WXAI_PROJECT_ID\", None)\n",
    "\n",
    "creds = {\"url\":ibm_cloud_url,\n",
    "         \"apikey\": api_key}"
   ]
  },
  {
   "cell_type": "code",
   "execution_count": 5,
   "metadata": {},
   "outputs": [],
   "source": [
    "params = {\n",
    "        GenParams.DECODING_METHOD: 'greedy',\n",
    "        GenParams.MIN_NEW_TOKENS: 40,\n",
    "        GenParams.MAX_NEW_TOKENS: 75,\n",
    "#        GenParams.RANDOM_SEED: 42,\n",
    "#        GenParams.TEMPERATURE: .8,\n",
    "        GenParams.REPETITION_PENALTY: 1.0,\n",
    "    }\n",
    "\n",
    "model = Model(model_id='ibm/granite-13b-chat-v2', params=params,\n",
    "              credentials=creds, project_id=project_id)"
   ]
  },
  {
   "cell_type": "markdown",
   "metadata": {},
   "source": [
    "### Generation without RAG"
   ]
  },
  {
   "cell_type": "code",
   "execution_count": 8,
   "metadata": {},
   "outputs": [
    {
     "name": "stdout",
     "output_type": "stream",
     "text": [
      "\n",
      "The Super Bowl LVI is scheduled to take place on February 13, 2022, at SoFi Stadium in Inglewood, California. As of now, the teams have not been determined, but the American Football Conference (AFC) and the National Football Conference (NFC) champions will face off in this annual championship game. The winner of the Super Bowl L\n"
     ]
    }
   ],
   "source": [
    "print(model.generate_text(\"Who won the 2024 super bowl?\"))"
   ]
  },
  {
   "cell_type": "markdown",
   "metadata": {},
   "source": [
    "### Generation with RAG"
   ]
  },
  {
   "cell_type": "code",
   "execution_count": 53,
   "metadata": {},
   "outputs": [],
   "source": [
    "def rag_function(query, vstore, llm, doc_k=3):\n",
    "    \"\"\"\n",
    "    Perform RAG on a user Query\n",
    "    \"\"\"\n",
    "    docs = vstore.query(query_texts=[query],\n",
    "                        n_results=doc_k, include=['documents'])\n",
    "    strings = ''\n",
    "    for i, doc in enumerate(docs['documents'][0]):\n",
    "        strings += f\"-Document {str(i)}:\"\n",
    "        strings += doc\n",
    "        strings += \"\\n\\n\"\n",
    "    prompt = f\"\"\"<|system|>\n",
    "    You are Granite Chat, an AI language model developed by IBM. You are a cautious assistant. You carefully follow instructions. You are helpful and harmless and you follow ethical guidelines and promote positive behavior. Use the provided context to answer a user question.\n",
    "    Context: {strings}\n",
    "    <|user|>\n",
    "    Query: {query}\n",
    "    <|assistant|>\"\"\"\n",
    "    return llm.generate_text(prompt)"
   ]
  },
  {
   "cell_type": "code",
   "execution_count": 33,
   "metadata": {},
   "outputs": [],
   "source": [
    "q = \"Who won the 2024 super bowl?\""
   ]
  },
  {
   "cell_type": "code",
   "execution_count": 54,
   "metadata": {},
   "outputs": [
    {
     "name": "stdout",
     "output_type": "stream",
     "text": [
      "\n",
      "\n",
      "Response: The Kansas City Chiefs won the 2024 Super Bowl. This information can be inferred from the context provided in Document 0, which states that the Kansas City Chiefs defeated the San Francisco 49ers in Super Bowl LVIII (2024) with a score of 25-22.\n"
     ]
    }
   ],
   "source": [
    "print(rag_function(q, vstore, model))"
   ]
  },
  {
   "cell_type": "code",
   "execution_count": null,
   "metadata": {},
   "outputs": [],
   "source": []
  }
 ],
 "metadata": {
  "kernelspec": {
   "display_name": "watsonxai",
   "language": "python",
   "name": "watsonxai"
  },
  "language_info": {
   "codemirror_mode": {
    "name": "ipython",
    "version": 3
   },
   "file_extension": ".py",
   "mimetype": "text/x-python",
   "name": "python",
   "nbconvert_exporter": "python",
   "pygments_lexer": "ipython3",
   "version": "3.9.16"
  }
 },
 "nbformat": 4,
 "nbformat_minor": 4
}
